{
 "cells": [
  {
   "cell_type": "markdown",
   "id": "907effad",
   "metadata": {},
   "source": [
    "## Import packages "
   ]
  },
  {
   "cell_type": "code",
   "execution_count": 1,
   "id": "95df2389",
   "metadata": {},
   "outputs": [],
   "source": [
    "import pandas as pd\n",
    "import numpy as np\n",
    "import datetime as dt\n",
    "import matplotlib.pyplot as plt"
   ]
  },
  {
   "cell_type": "markdown",
   "id": "0f1b5e5e",
   "metadata": {},
   "source": [
    "## Read data"
   ]
  },
  {
   "cell_type": "code",
   "execution_count": 2,
   "id": "c45cc64c",
   "metadata": {},
   "outputs": [
    {
     "data": {
      "text/html": [
       "<div>\n",
       "<style scoped>\n",
       "    .dataframe tbody tr th:only-of-type {\n",
       "        vertical-align: middle;\n",
       "    }\n",
       "\n",
       "    .dataframe tbody tr th {\n",
       "        vertical-align: top;\n",
       "    }\n",
       "\n",
       "    .dataframe thead th {\n",
       "        text-align: right;\n",
       "    }\n",
       "</style>\n",
       "<table border=\"1\" class=\"dataframe\">\n",
       "  <thead>\n",
       "    <tr style=\"text-align: right;\">\n",
       "      <th></th>\n",
       "      <th>listing_id</th>\n",
       "      <th>host_name</th>\n",
       "      <th>last_review</th>\n",
       "    </tr>\n",
       "  </thead>\n",
       "  <tbody>\n",
       "    <tr>\n",
       "      <th>0</th>\n",
       "      <td>2595</td>\n",
       "      <td>Jennifer</td>\n",
       "      <td>May 21 2019</td>\n",
       "    </tr>\n",
       "    <tr>\n",
       "      <th>1</th>\n",
       "      <td>3831</td>\n",
       "      <td>LisaRoxanne</td>\n",
       "      <td>July 05 2019</td>\n",
       "    </tr>\n",
       "    <tr>\n",
       "      <th>2</th>\n",
       "      <td>5099</td>\n",
       "      <td>Chris</td>\n",
       "      <td>June 22 2019</td>\n",
       "    </tr>\n",
       "    <tr>\n",
       "      <th>3</th>\n",
       "      <td>5178</td>\n",
       "      <td>Shunichi</td>\n",
       "      <td>June 24 2019</td>\n",
       "    </tr>\n",
       "    <tr>\n",
       "      <th>4</th>\n",
       "      <td>5238</td>\n",
       "      <td>Ben</td>\n",
       "      <td>June 09 2019</td>\n",
       "    </tr>\n",
       "  </tbody>\n",
       "</table>\n",
       "</div>"
      ],
      "text/plain": [
       "   listing_id    host_name   last_review\n",
       "0        2595     Jennifer   May 21 2019\n",
       "1        3831  LisaRoxanne  July 05 2019\n",
       "2        5099        Chris  June 22 2019\n",
       "3        5178     Shunichi  June 24 2019\n",
       "4        5238          Ben  June 09 2019"
      ]
     },
     "metadata": {},
     "output_type": "display_data"
    },
    {
     "data": {
      "text/html": [
       "<div>\n",
       "<style scoped>\n",
       "    .dataframe tbody tr th:only-of-type {\n",
       "        vertical-align: middle;\n",
       "    }\n",
       "\n",
       "    .dataframe tbody tr th {\n",
       "        vertical-align: top;\n",
       "    }\n",
       "\n",
       "    .dataframe thead th {\n",
       "        text-align: right;\n",
       "    }\n",
       "</style>\n",
       "<table border=\"1\" class=\"dataframe\">\n",
       "  <thead>\n",
       "    <tr style=\"text-align: right;\">\n",
       "      <th></th>\n",
       "      <th>listing_id</th>\n",
       "      <th>price</th>\n",
       "      <th>nbhood_full</th>\n",
       "    </tr>\n",
       "  </thead>\n",
       "  <tbody>\n",
       "    <tr>\n",
       "      <th>0</th>\n",
       "      <td>2595</td>\n",
       "      <td>225 dollars</td>\n",
       "      <td>Manhattan, Midtown</td>\n",
       "    </tr>\n",
       "    <tr>\n",
       "      <th>1</th>\n",
       "      <td>3831</td>\n",
       "      <td>89 dollars</td>\n",
       "      <td>Brooklyn, Clinton Hill</td>\n",
       "    </tr>\n",
       "    <tr>\n",
       "      <th>2</th>\n",
       "      <td>5099</td>\n",
       "      <td>200 dollars</td>\n",
       "      <td>Manhattan, Murray Hill</td>\n",
       "    </tr>\n",
       "    <tr>\n",
       "      <th>3</th>\n",
       "      <td>5178</td>\n",
       "      <td>79 dollars</td>\n",
       "      <td>Manhattan, Hell's Kitchen</td>\n",
       "    </tr>\n",
       "    <tr>\n",
       "      <th>4</th>\n",
       "      <td>5238</td>\n",
       "      <td>150 dollars</td>\n",
       "      <td>Manhattan, Chinatown</td>\n",
       "    </tr>\n",
       "  </tbody>\n",
       "</table>\n",
       "</div>"
      ],
      "text/plain": [
       "   listing_id        price                nbhood_full\n",
       "0        2595  225 dollars         Manhattan, Midtown\n",
       "1        3831   89 dollars     Brooklyn, Clinton Hill\n",
       "2        5099  200 dollars     Manhattan, Murray Hill\n",
       "3        5178   79 dollars  Manhattan, Hell's Kitchen\n",
       "4        5238  150 dollars       Manhattan, Chinatown"
      ]
     },
     "metadata": {},
     "output_type": "display_data"
    },
    {
     "data": {
      "text/html": [
       "<div>\n",
       "<style scoped>\n",
       "    .dataframe tbody tr th:only-of-type {\n",
       "        vertical-align: middle;\n",
       "    }\n",
       "\n",
       "    .dataframe tbody tr th {\n",
       "        vertical-align: top;\n",
       "    }\n",
       "\n",
       "    .dataframe thead th {\n",
       "        text-align: right;\n",
       "    }\n",
       "</style>\n",
       "<table border=\"1\" class=\"dataframe\">\n",
       "  <thead>\n",
       "    <tr style=\"text-align: right;\">\n",
       "      <th></th>\n",
       "      <th>listing_id</th>\n",
       "      <th>description</th>\n",
       "      <th>room_type</th>\n",
       "    </tr>\n",
       "  </thead>\n",
       "  <tbody>\n",
       "    <tr>\n",
       "      <th>0</th>\n",
       "      <td>2595</td>\n",
       "      <td>Skylit Midtown Castle</td>\n",
       "      <td>Entire home/apt</td>\n",
       "    </tr>\n",
       "    <tr>\n",
       "      <th>1</th>\n",
       "      <td>3831</td>\n",
       "      <td>Cozy Entire Floor of Brownstone</td>\n",
       "      <td>Entire home/apt</td>\n",
       "    </tr>\n",
       "    <tr>\n",
       "      <th>2</th>\n",
       "      <td>5099</td>\n",
       "      <td>Large Cozy 1 BR Apartment In Midtown East</td>\n",
       "      <td>Entire home/apt</td>\n",
       "    </tr>\n",
       "    <tr>\n",
       "      <th>3</th>\n",
       "      <td>5178</td>\n",
       "      <td>Large Furnished Room Near B'way</td>\n",
       "      <td>private room</td>\n",
       "    </tr>\n",
       "    <tr>\n",
       "      <th>4</th>\n",
       "      <td>5238</td>\n",
       "      <td>Cute &amp; Cozy Lower East Side 1 bdrm</td>\n",
       "      <td>Entire home/apt</td>\n",
       "    </tr>\n",
       "  </tbody>\n",
       "</table>\n",
       "</div>"
      ],
      "text/plain": [
       "   listing_id                                description        room_type\n",
       "0        2595                      Skylit Midtown Castle  Entire home/apt\n",
       "1        3831            Cozy Entire Floor of Brownstone  Entire home/apt\n",
       "2        5099  Large Cozy 1 BR Apartment In Midtown East  Entire home/apt\n",
       "3        5178            Large Furnished Room Near B'way     private room\n",
       "4        5238         Cute & Cozy Lower East Side 1 bdrm  Entire home/apt"
      ]
     },
     "metadata": {},
     "output_type": "display_data"
    }
   ],
   "source": [
    "reviews = pd.read_csv('airbnb_review.csv')\n",
    "prices = pd.read_csv('airbnb_price.csv')\n",
    "room_types = pd.read_excel('airbnb_room_type.xlsx')\n",
    "\n",
    "\n",
    "display(reviews.head())\n",
    "display(prices.head())\n",
    "display(room_types.head())"
   ]
  },
  {
   "cell_type": "code",
   "execution_count": 3,
   "id": "df9025a1",
   "metadata": {},
   "outputs": [
    {
     "name": "stdout",
     "output_type": "stream",
     "text": [
      "listing_id     0\n",
      "host_name      8\n",
      "last_review    0\n",
      "dtype: int64 \n",
      "\n",
      "listing_id     0\n",
      "price          0\n",
      "nbhood_full    0\n",
      "dtype: int64 \n",
      "\n",
      "listing_id      0\n",
      "description    10\n",
      "room_type       0\n",
      "dtype: int64 \n",
      "\n"
     ]
    }
   ],
   "source": [
    "# If there is any null value in the column that will not be used, I just ignore it. \n",
    "print(reviews.isnull().sum(), '\\n')\n",
    "print(prices.isnull().sum(), '\\n')\n",
    "print(room_types.isnull().sum(), '\\n')"
   ]
  },
  {
   "cell_type": "markdown",
   "id": "0ea45646",
   "metadata": {},
   "source": [
    "## Clean the price column¶"
   ]
  },
  {
   "cell_type": "code",
   "execution_count": 4,
   "id": "ae095246",
   "metadata": {},
   "outputs": [
    {
     "name": "stdout",
     "output_type": "stream",
     "text": [
      "0        225\n",
      "1         89\n",
      "2        200\n",
      "3         79\n",
      "4        150\n",
      "        ... \n",
      "25204    129\n",
      "25205     45\n",
      "25206    235\n",
      "25207    100\n",
      "25208     30\n",
      "Name: price, Length: 25209, dtype: int64 \n",
      "\n",
      "count    25209.000000\n",
      "mean       141.777936\n",
      "std        147.349137\n",
      "min          0.000000\n",
      "25%         69.000000\n",
      "50%        105.000000\n",
      "75%        175.000000\n",
      "max       7500.000000\n",
      "Name: price, dtype: float64\n"
     ]
    }
   ],
   "source": [
    "# Remove whitespace and 'dollars' from prices column\n",
    "prices['price'] = prices['price'].str.replace(' dollars', '')\n",
    "\n",
    "# Convert prices column to numeric datatype\n",
    "prices['price'] = pd.to_numeric(prices['price'])\n",
    "\n",
    "print(prices['price'],'\\n')\n",
    "print(prices['price'].describe())\n",
    "\n",
    "# Subset prices that are not $0\n",
    "prices = prices.loc[~(prices['price']==0)]"
   ]
  },
  {
   "cell_type": "markdown",
   "id": "d7519310",
   "metadata": {},
   "source": [
    "## Calculate average price per night"
   ]
  },
  {
   "cell_type": "code",
   "execution_count": 5,
   "id": "5d32606f",
   "metadata": {},
   "outputs": [
    {
     "name": "stdout",
     "output_type": "stream",
     "text": [
      "The average price per night for an Airbnb listing in NYC is $141.82.\n"
     ]
    }
   ],
   "source": [
    "# Calculate the average price\n",
    "avg_price = round(prices['price'].mean(), 2)\n",
    "\n",
    "print(f'The average price per night for an Airbnb listing in NYC is ${avg_price}.')"
   ]
  },
  {
   "cell_type": "markdown",
   "id": "32c853ff",
   "metadata": {},
   "source": [
    "## Compare the montly costs of Airbnb to the private rental market¶"
   ]
  },
  {
   "cell_type": "code",
   "execution_count": 6,
   "id": "becaa7b3",
   "metadata": {},
   "outputs": [
    {
     "name": "stdout",
     "output_type": "stream",
     "text": [
      "Airbnb monthly costs are $4313.61. while in the private market you would pay $3,100.00\n",
      "Airbnb is $1213.61 higher.\n"
     ]
    }
   ],
   "source": [
    "# Convert the per night prices of Airbnb listings into monthly costs\n",
    "prices['price_per_month'] = prices['price'] * 365 / 12\n",
    "\n",
    "# Calculate average price per month\n",
    "average_price_per_month = round(prices['price_per_month'].mean(), 2)\n",
    "\n",
    "# Compare Airbnb and rental market\n",
    "print(f'Airbnb monthly costs are ${average_price_per_month}. while in the private market you would pay {\"$3,100.00\"}')\n",
    "print(f'Airbnb is ${round(average_price_per_month-3100, 2)} higher.')"
   ]
  },
  {
   "cell_type": "markdown",
   "id": "eb4dfa14",
   "metadata": {},
   "source": [
    "## Clean the room type column¶"
   ]
  },
  {
   "cell_type": "code",
   "execution_count": 7,
   "id": "f4af99b6",
   "metadata": {},
   "outputs": [],
   "source": [
    "# Convert the room_type column to lowercase\n",
    "room_types['room_type'] = room_types['room_type'].str.lower()\n",
    "\n",
    "# Change the room_type column to category data type\n",
    "room_types['room_type'] = room_types['room_type'].astype('category')"
   ]
  },
  {
   "cell_type": "code",
   "execution_count": 8,
   "id": "694a7541",
   "metadata": {},
   "outputs": [
    {
     "name": "stdout",
     "output_type": "stream",
     "text": [
      "['entire home/apt', 'private room', 'shared room']\n",
      "Categories (3, object): ['entire home/apt', 'private room', 'shared room']\n"
     ]
    }
   ],
   "source": [
    "print(room_types['room_type'].unique())"
   ]
  },
  {
   "cell_type": "markdown",
   "id": "516e28ed",
   "metadata": {},
   "source": [
    "## Count the room type"
   ]
  },
  {
   "cell_type": "code",
   "execution_count": 9,
   "id": "d4f73f95",
   "metadata": {},
   "outputs": [
    {
     "name": "stdout",
     "output_type": "stream",
     "text": [
      "entire home/apt    13266\n",
      "private room       11356\n",
      "shared room          587\n",
      "Name: room_type, dtype: int64 \n",
      "\n"
     ]
    },
    {
     "data": {
      "image/png": "[encoded data removed]",
      "text/plain": [
       "<Figure size 432x288 with 1 Axes>"
      ]
     },
     "metadata": {
      "needs_background": "light"
     },
     "output_type": "display_data"
    }
   ],
   "source": [
    "# Plot the count of each room type \n",
    "room_frequencies = room_types['room_type'].value_counts()\n",
    "\n",
    "print(room_frequencies, '\\n')\n",
    "\n",
    "\n",
    "plt.figure(figsize=(6,4))\n",
    "\n",
    "plt.bar(room_types['room_type'].unique(),room_frequencies)\n",
    "plt.title('Number of Each Room Type', fontsize=15, fontweight='bold')\n",
    "plt.xlabel('Room Type', fontsize=13)\n",
    "plt.ylabel('Count', fontsize=13)\n",
    "\n",
    "plt.show()"
   ]
  },
  {
   "cell_type": "markdown",
   "id": "5d19718a",
   "metadata": {},
   "source": [
    "## What is the earliest and latest review dates?"
   ]
  },
  {
   "cell_type": "code",
   "execution_count": 10,
   "id": "8acde3da",
   "metadata": {},
   "outputs": [
    {
     "name": "stdout",
     "output_type": "stream",
     "text": [
      "The collection of the Airbnb review spans from 2019-01-01 to 2019-07-09.\n"
     ]
    }
   ],
   "source": [
    "# Change the last_review column to datetime data type\n",
    "reviews['last_review'] = pd.to_datetime(reviews['last_review'])\n",
    "\n",
    "# Extract the earliest review date\n",
    "first_reviewed = reviews['last_review'].dt.date.min()\n",
    "\n",
    "# Extract the most recent review date\n",
    "last_reviewed = reviews['last_review'].dt.date.max()\n",
    "\n",
    "print(f'The collection of the Airbnb review spans from {first_reviewed} to {last_reviewed}.')"
   ]
  },
  {
   "cell_type": "markdown",
   "id": "e978d185",
   "metadata": {},
   "source": [
    "## Merge the DataFrames"
   ]
  },
  {
   "cell_type": "code",
   "execution_count": 11,
   "id": "a09b4109",
   "metadata": {},
   "outputs": [],
   "source": [
    "# Merge prices and room_types DataFrame\n",
    "rooms_and_prices = prices.merge(room_types, how='outer', on='listing_id')\n",
    "\n",
    "# Merge rooms_and_prices with reviews DataFrame \n",
    "airbnb_merged = rooms_and_prices.merge(reviews, how='outer', on='listing_id')\n",
    "\n",
    "airbnb_merged.dropna(inplace=True)"
   ]
  },
  {
   "cell_type": "markdown",
   "id": "2e49143a",
   "metadata": {},
   "source": [
    "## Analyze listing prices by NYC borough"
   ]
  },
  {
   "cell_type": "code",
   "execution_count": 12,
   "id": "12451053",
   "metadata": {},
   "outputs": [
    {
     "name": "stdout",
     "output_type": "stream",
     "text": [
      "                 mean  median        sum  count\n",
      "borough                                        \n",
      "Manhattan      184.04   149.0  1898417.0  10315\n",
      "Brooklyn       122.02    95.0  1275250.0  10451\n",
      "Staten Island   86.04    71.0    22974.0    267\n",
      "Queens          92.83    70.0   320715.0   3455\n",
      "Bronx           79.25    65.0    55156.0    696\n"
     ]
    }
   ],
   "source": [
    "# Extract borough name from nbhood_full column \n",
    "airbnb_merged['borough'] = airbnb_merged['nbhood_full'].str.partition(',')[0]\n",
    "\n",
    "# Group by borough and calculate summary statistics\n",
    "boroughs = airbnb_merged.groupby('borough')['price'].agg(['mean', 'median', 'sum', 'count'])\n",
    "\n",
    "boroughs = boroughs.round(2).sort_values('median', ascending=False)\n",
    "\n",
    "print(boroughs)"
   ]
  },
  {
   "cell_type": "code",
   "execution_count": 13,
   "id": "59cd1ba7",
   "metadata": {},
   "outputs": [
    {
     "data": {
      "image/png": "[encoded data removed]",
      "text/plain": [
       "<Figure size 432x288 with 1 Axes>"
      ]
     },
     "metadata": {
      "needs_background": "light"
     },
     "output_type": "display_data"
    }
   ],
   "source": [
    "# Plot the median prices by 5 NYC boroughs \n",
    "plt.figure(figsize=(6,4))\n",
    "\n",
    "plt.bar(airbnb_merged['borough'].unique(), boroughs['median'])\n",
    "plt.title('Median Prices by 5 NYC Boroughs', fontsize=15, fontweight='bold')\n",
    "plt.xlabel('Borough', fontsize=13)\n",
    "plt.ylabel('Median Prices ($)', fontsize=13)\n",
    "\n",
    "plt.show()"
   ]
  },
  {
   "cell_type": "markdown",
   "id": "fb1a3619",
   "metadata": {},
   "source": [
    "## Analyze listing prices by room type"
   ]
  },
  {
   "cell_type": "code",
   "execution_count": 14,
   "id": "e38490b6",
   "metadata": {},
   "outputs": [
    {
     "name": "stdout",
     "output_type": "stream",
     "text": [
      "                   mean  median        sum  count\n",
      "room_type                                        \n",
      "entire home/apt  197.19   159.0  2615133.0  13262\n",
      "private room      81.68    70.0   925995.0  11337\n",
      "shared room       53.65    41.0    31384.0    585\n"
     ]
    }
   ],
   "source": [
    "# Group by room type and calculate summary statistics\n",
    "types = airbnb_merged.groupby('room_type')['price'].agg(['mean', 'median', 'sum', 'count'])\n",
    "\n",
    "types = types.round(2).sort_values('median', ascending=False)\n",
    "\n",
    "print(types)"
   ]
  },
  {
   "cell_type": "code",
   "execution_count": 15,
   "id": "9ffa4b33",
   "metadata": {},
   "outputs": [
    {
     "data": {
      "image/png": "[encoded data removed]",
      "text/plain": [
       "<Figure size 432x288 with 1 Axes>"
      ]
     },
     "metadata": {
      "needs_background": "light"
     },
     "output_type": "display_data"
    }
   ],
   "source": [
    "# Plot the median prices by 3 room types\n",
    "plt.figure(figsize=(6,4))\n",
    "\n",
    "plt.bar(airbnb_merged['room_type'].unique(), types['median'])\n",
    "plt.title('Median Prices by 3 Room Types', fontsize=15, fontweight='bold')\n",
    "plt.xlabel('Room Type', fontsize=13)\n",
    "plt.ylabel('Median Prices ($)', fontsize=13)\n",
    "\n",
    "plt.show()"
   ]
  },
  {
   "cell_type": "markdown",
   "id": "170260fa",
   "metadata": {},
   "source": [
    "## Categorize price range by borough"
   ]
  },
  {
   "cell_type": "code",
   "execution_count": 16,
   "id": "ef163195",
   "metadata": {},
   "outputs": [
    {
     "name": "stdout",
     "output_type": "stream",
     "text": [
      "borough        price_range\n",
      "Bronx          Budget          381\n",
      "               Average         285\n",
      "               Expensive        25\n",
      "               Extravagant       5\n",
      "Brooklyn       Budget         3194\n",
      "               Average        5532\n",
      "               Expensive      1466\n",
      "               Extravagant     259\n",
      "Manhattan      Budget         1148\n",
      "               Average        5285\n",
      "               Expensive      3072\n",
      "               Extravagant     810\n",
      "Queens         Budget         1631\n",
      "               Average        1505\n",
      "               Expensive       291\n",
      "               Extravagant      28\n",
      "Staten Island  Budget          124\n",
      "               Average         123\n",
      "               Expensive        20\n",
      "               Extravagant       0\n",
      "Name: price_range, dtype: int64\n"
     ]
    }
   ],
   "source": [
    "# Price ragne:\n",
    "# - Budget  $0-69\n",
    "# - Average  $70-175\n",
    "# - Expensive  $176-350\n",
    "# - Extravagant  >$350\n",
    "\n",
    "\n",
    "# Create labels for the price range\n",
    "labels = ['Budget','Average','Expensive','Extravagant']\n",
    "\n",
    "# Create the label ranges\n",
    "ranges = [0, 69, 175, 350, np.inf]\n",
    "\n",
    "airbnb_merged['price_range'] = pd.cut(airbnb_merged['price'], bins=ranges, labels=labels)\n",
    "\n",
    "# Calculate borough and price_range frequencies\n",
    "prices_by_borough = airbnb_merged.groupby(['borough','price_range'])['price_range'].count()\n",
    "print(prices_by_borough) "
   ]
  }
 ],
 "metadata": {
  "kernelspec": {
   "display_name": "Python 3 (ipykernel)",
   "language": "python",
   "name": "python3"
  },
  "language_info": {
   "codemirror_mode": {
    "name": "ipython",
    "version": 3
   },
   "file_extension": ".py",
   "mimetype": "text/x-python",
   "name": "python",
   "nbconvert_exporter": "python",
   "pygments_lexer": "ipython3",
   "version": "3.9.7"
  }
 },
 "nbformat": 4,
 "nbformat_minor": 5
}
